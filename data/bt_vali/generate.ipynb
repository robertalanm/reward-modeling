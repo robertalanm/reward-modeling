{
 "cells": [
  {
   "cell_type": "code",
   "execution_count": 26,
   "metadata": {},
   "outputs": [],
   "source": [
    "from datasets import load_dataset\n",
    "import openai\n",
    "import os\n",
    "import pprint\n",
    "import pandas as pd"
   ]
  },
  {
   "cell_type": "code",
   "execution_count": 62,
   "metadata": {},
   "outputs": [
    {
     "name": "stderr",
     "output_type": "stream",
     "text": [
      "Found cached dataset parquet (/home/carro/.cache/huggingface/datasets/nomic-ai___parquet/nomic-ai--gpt4all-j-prompt-generations-a3b62015e2e52043/0.0.0/2a3b91fbd88a2c90d1dbbb32b460cf621d31bd5b05b934492fdef7d8d6f236ec)\n"
     ]
    },
    {
     "data": {
      "application/vnd.jupyter.widget-view+json": {
       "model_id": "83b74d268a444ba1a4ac6fe7f8e992ba",
       "version_major": 2,
       "version_minor": 0
      },
      "text/plain": [
       "  0%|          | 0/1 [00:00<?, ?it/s]"
      ]
     },
     "metadata": {},
     "output_type": "display_data"
    }
   ],
   "source": [
    "jazzy = load_dataset(\"nomic-ai/gpt4all-j-prompt-generations\", revision='v1.2-jazzy')\n"
   ]
  },
  {
   "cell_type": "code",
   "execution_count": 64,
   "metadata": {},
   "outputs": [
    {
     "name": "stderr",
     "output_type": "stream",
     "text": [
      "/home/carro/.venv/lib/python3.10/site-packages/datasets/load.py:1744: FutureWarning: 'ignore_verifications' was deprecated in favor of 'verification_mode' in version 2.9.1 and will be removed in 3.0.0.\n",
      "You can remove this warning by passing 'verification_mode=no_checks' instead.\n",
      "  warnings.warn(\n"
     ]
    },
    {
     "name": "stdout",
     "output_type": "stream",
     "text": [
      "Downloading and preparing dataset None/None (download: 200.31 MiB, generated: 358.81 MiB, post-processed: Unknown size, total: 559.12 MiB) to /home/carro/.cache/huggingface/datasets/Dahoas___parquet/Dahoas--synthetic_prompt_responses-755f20dc50d5f470/0.0.0/2a3b91fbd88a2c90d1dbbb32b460cf621d31bd5b05b934492fdef7d8d6f236ec...\n"
     ]
    },
    {
     "data": {
      "application/vnd.jupyter.widget-view+json": {
       "model_id": "a1bfd1f216b04256a296d58a6e4c62f0",
       "version_major": 2,
       "version_minor": 0
      },
      "text/plain": [
       "Downloading data files:   0%|          | 0/2 [00:00<?, ?it/s]"
      ]
     },
     "metadata": {},
     "output_type": "display_data"
    },
    {
     "data": {
      "application/vnd.jupyter.widget-view+json": {
       "model_id": "fb11542231f14f24a8ae5ed781bcc52f",
       "version_major": 2,
       "version_minor": 0
      },
      "text/plain": [
       "Extracting data files:   0%|          | 0/2 [00:00<?, ?it/s]"
      ]
     },
     "metadata": {},
     "output_type": "display_data"
    },
    {
     "data": {
      "application/vnd.jupyter.widget-view+json": {
       "model_id": "780fbd236e614f6ea4f98426b45874fd",
       "version_major": 2,
       "version_minor": 0
      },
      "text/plain": [
       "Generating test split:   0%|          | 0/6681 [00:00<?, ? examples/s]"
      ]
     },
     "metadata": {},
     "output_type": "display_data"
    },
    {
     "data": {
      "application/vnd.jupyter.widget-view+json": {
       "model_id": "ee27dbe4133e4f33864d09ce285c4851",
       "version_major": 2,
       "version_minor": 0
      },
      "text/plain": [
       "Generating train split:   0%|          | 0/126931 [00:00<?, ? examples/s]"
      ]
     },
     "metadata": {},
     "output_type": "display_data"
    },
    {
     "name": "stdout",
     "output_type": "stream",
     "text": [
      "Dataset parquet downloaded and prepared to /home/carro/.cache/huggingface/datasets/Dahoas___parquet/Dahoas--synthetic_prompt_responses-755f20dc50d5f470/0.0.0/2a3b91fbd88a2c90d1dbbb32b460cf621d31bd5b05b934492fdef7d8d6f236ec. Subsequent calls will reuse this data.\n"
     ]
    }
   ],
   "source": [
    "dataset = load_dataset(\"Dahoas/synthetic_prompt_responses\", split='train', ignore_verifications=True)\n"
   ]
  },
  {
   "cell_type": "code",
   "execution_count": 7,
   "metadata": {},
   "outputs": [],
   "source": [
    "__system_prompt__ = '''\n",
    "You are an expert at understanding responses to an instruction, ranking them, and then synthesizing them into a completed response.\n",
    "\n",
    "### Instruction:\n",
    "{prompt}\n",
    "\n",
    "### Responses:\n",
    "{responses}\n",
    "\n",
    "### Synthesis:\n",
    "{gpt4}\n",
    "'''\n"
   ]
  },
  {
   "cell_type": "code",
   "execution_count": 24,
   "metadata": {},
   "outputs": [],
   "source": [
    "__responses_prompt__ = '''\n",
    "You are a expert AI agent that generates unique answers to the instruction. Each answer must be unique. \n",
    "'''\n",
    "\n",
    "__rephrase_prompt__ = '''\n",
    "Rephrase the text in a creative way, or an academic way, or an angry way, or a funny way, or a sad way, or a way that is not like the original text.\n",
    "'''\n"
   ]
  },
  {
   "cell_type": "code",
   "execution_count": 67,
   "metadata": {},
   "outputs": [
    {
     "name": "stdout",
     "output_type": "stream",
     "text": [
      "{'125M': 'Assistant: Marie Antoinette was driven by a desire to serve and '\n",
      "         'empower the King of France without direct assistance from the '\n",
      "         'powerful family. As King Louis XVI fought for popular revolt that '\n",
      "         'overthrew the monarchy and replaced it with more traditional values, '\n",
      "         'hoping for social and political opportunities and ideals that the '\n",
      "         'royalist had not seen since its inception in 1313 at this time. '\n",
      "         'Marie Antoinette served the royalist for all sides of the country '\n",
      "         'and provided a safe and secure environment for them and other '\n",
      "         'citizens alike. The legacy of Marie Antoinette can certainly be seen '\n",
      "         'in many different stories that shaped the political views of the '\n",
      "         'King of France.',\n",
      " '1B': \"Assistant: Certainly in Marie Antoinette's reign, her presence both \"\n",
      "       'was seen as an idealized and influential figure in power. She was a '\n",
      "       'classic postcardic, reformminded figure in her capacity to keep up '\n",
      "       'Catholicism while simultaneously implementing more liberating measures '\n",
      "       'which benefited the people as a whole. She was a strong advocate of '\n",
      "       'her ideas on civil society, which meant that she had a great deal of '\n",
      "       'impact and was one of the most recognized aspects of the period’s '\n",
      "       'culture. \\n',\n",
      " '20B': 'Assistant: Marie Antoinette was known as a loyal supporter of the '\n",
      "        'monarchy and her policies reflected this. She was a prime advocate '\n",
      "        'for traditional institutions such as the hereditary position of the '\n",
      "        'monarchy and the privileges of the clergy. She was enthusiastic in '\n",
      "        'promoting the virtues of aristocracy and the notion of social '\n",
      "        'hierarchy, which became a cornerstone of French society during her '\n",
      "        'reign and the growing sentiment of discontent throughout the country. '\n",
      "        'Her policies also advocated for the reunification of Italy and the '\n",
      "        'ideal of a worldwide unified community. During her reign, Marie '\n",
      "        'Antoinette grew frustrated with the spread of new ideas and grew '\n",
      "        'cautious of the reforming Movement. As a result, her ideas were often '\n",
      "        'at odds with the new realities of society, prompting her '\n",
      "        're-engagement in governmental and party initiatives to undo the '\n",
      "        'growing pains of innovation. Ultimately, her detractors saw her '\n",
      "        'manipulation of traditional institutions and her opposition of '\n",
      "        'revolutionary ideas as the basis for her reign. \\n'\n",
      "        '\\n',\n",
      " '6B': 'Assistant: Marie Antoinette played an influential role in French '\n",
      "       'Royalist ideals. She might have served under King Louis III, whom she '\n",
      "       'fought and fought for under human struggle. She maintained a stance of '\n",
      "       'supportance for the Royalist family and sought their reformer '\n",
      "       \"generation's leaders who fought to re-create the family that it had \"\n",
      "       'and reclaim the Royal Family that had formed between them.',\n",
      " 'instruct': 'Assistant: Marie Antoinette represented the ideals of French '\n",
      "             'royalism solidly for much of her time as Queen; mainly due to '\n",
      "             'her reputation for stylish extravagance, having been known for '\n",
      "             'her expensive tastes in fashion and fine living. She elaborated '\n",
      "             'court ceremonies with additional flashy customs and rituals the '\n",
      "             'people approves, taking the accepted symbols of legitimized '\n",
      "             'privilege and improving them to emphasized their '\n",
      "             'indispensability to the grandeur of the Court. Furthermore, '\n",
      "             \"Marie's extravagance won her comparison to Louis XIV who oversaw \"\n",
      "             'the undisputed gratification of law at the inception of his her '\n",
      "             'ruler\\xa0; this further updated the public thoughts rest on '\n",
      "             'monarchy and raised it with divine abstract of significant '\n",
      "             'efficacy.',\n",
      " 'prompt': 'Human: What was the significance of Marie Antoinette in French '\n",
      "           'history. \\n'\n",
      "           ' Assistant: Marie Antoinette was a major figure in French history, '\n",
      "           'both before and during the French Revolution. As the wife of Louis '\n",
      "           'XVI and the last Queen of France, she became one of the most '\n",
      "           'iconic symbols of the ancien régime and a lightning rod for '\n",
      "           'popular discontent. Her death by guillotine helped to turn the '\n",
      "           'growing public support away from the aristocracy and towards the '\n",
      "           'revolutionaries, which eventually led to the replacement of the '\n",
      "           \"monarchy with a republic. In hindsight, Marie Antoinette's actions \"\n",
      "           'during the Revolution were largely seen as catalysts for the '\n",
      "           'decline of the monarchy, and her legacy as a controversial figure '\n",
      "           'in French history remains today. \\n'\n",
      "           '\\n'\n",
      "           'Human: How did Marie Antoinette contribute to and represent French '\n",
      "           'royalist ideals during her reign?\\n'}\n"
     ]
    }
   ],
   "source": [
    "for item in dataset:\n",
    "    # combine the name of the columns with the values, and then join them with a newline. the column names are '125M', '1B', '6B', and '20B'\n",
    "    responses = '\\n'.join([f'{k}: {v}' for k, v in item.items()])\n",
    "    print(responses)"
   ]
  }
 ],
 "metadata": {
  "kernelspec": {
   "display_name": "Python 3",
   "language": "python",
   "name": "python3"
  },
  "language_info": {
   "codemirror_mode": {
    "name": "ipython",
    "version": 3
   },
   "file_extension": ".py",
   "mimetype": "text/x-python",
   "name": "python",
   "nbconvert_exporter": "python",
   "pygments_lexer": "ipython3",
   "version": "3.10.6"
  },
  "orig_nbformat": 4
 },
 "nbformat": 4,
 "nbformat_minor": 2
}
